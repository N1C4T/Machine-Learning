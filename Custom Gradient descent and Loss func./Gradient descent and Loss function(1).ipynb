{
 "cells": [
  {
   "cell_type": "code",
   "execution_count": 177,
   "id": "43dced3b-8d7b-4f69-8f5e-4ba4f10733fb",
   "metadata": {},
   "outputs": [],
   "source": [
    "import pandas as pd\n",
    "import numpy as np\n",
    "import math\n",
    "from sklearn.linear_model import LinearRegression"
   ]
  },
  {
   "cell_type": "code",
   "execution_count": 178,
   "id": "6c09ae37-79ad-46f8-957f-824d040634a3",
   "metadata": {},
   "outputs": [
    {
     "data": {
      "text/html": [
       "<div>\n",
       "<style scoped>\n",
       "    .dataframe tbody tr th:only-of-type {\n",
       "        vertical-align: middle;\n",
       "    }\n",
       "\n",
       "    .dataframe tbody tr th {\n",
       "        vertical-align: top;\n",
       "    }\n",
       "\n",
       "    .dataframe thead th {\n",
       "        text-align: right;\n",
       "    }\n",
       "</style>\n",
       "<table border=\"1\" class=\"dataframe\">\n",
       "  <thead>\n",
       "    <tr style=\"text-align: right;\">\n",
       "      <th></th>\n",
       "      <th>name</th>\n",
       "      <th>math</th>\n",
       "      <th>cs</th>\n",
       "    </tr>\n",
       "  </thead>\n",
       "  <tbody>\n",
       "    <tr>\n",
       "      <th>0</th>\n",
       "      <td>david</td>\n",
       "      <td>92</td>\n",
       "      <td>98</td>\n",
       "    </tr>\n",
       "    <tr>\n",
       "      <th>1</th>\n",
       "      <td>laura</td>\n",
       "      <td>56</td>\n",
       "      <td>68</td>\n",
       "    </tr>\n",
       "    <tr>\n",
       "      <th>2</th>\n",
       "      <td>sanjay</td>\n",
       "      <td>88</td>\n",
       "      <td>81</td>\n",
       "    </tr>\n",
       "    <tr>\n",
       "      <th>3</th>\n",
       "      <td>wei</td>\n",
       "      <td>70</td>\n",
       "      <td>80</td>\n",
       "    </tr>\n",
       "    <tr>\n",
       "      <th>4</th>\n",
       "      <td>jeff</td>\n",
       "      <td>80</td>\n",
       "      <td>83</td>\n",
       "    </tr>\n",
       "    <tr>\n",
       "      <th>5</th>\n",
       "      <td>aamir</td>\n",
       "      <td>49</td>\n",
       "      <td>52</td>\n",
       "    </tr>\n",
       "    <tr>\n",
       "      <th>6</th>\n",
       "      <td>venkat</td>\n",
       "      <td>65</td>\n",
       "      <td>66</td>\n",
       "    </tr>\n",
       "    <tr>\n",
       "      <th>7</th>\n",
       "      <td>virat</td>\n",
       "      <td>35</td>\n",
       "      <td>30</td>\n",
       "    </tr>\n",
       "    <tr>\n",
       "      <th>8</th>\n",
       "      <td>arthur</td>\n",
       "      <td>66</td>\n",
       "      <td>68</td>\n",
       "    </tr>\n",
       "    <tr>\n",
       "      <th>9</th>\n",
       "      <td>paul</td>\n",
       "      <td>67</td>\n",
       "      <td>73</td>\n",
       "    </tr>\n",
       "  </tbody>\n",
       "</table>\n",
       "</div>"
      ],
      "text/plain": [
       "     name  math  cs\n",
       "0   david    92  98\n",
       "1   laura    56  68\n",
       "2  sanjay    88  81\n",
       "3     wei    70  80\n",
       "4    jeff    80  83\n",
       "5   aamir    49  52\n",
       "6  venkat    65  66\n",
       "7   virat    35  30\n",
       "8  arthur    66  68\n",
       "9    paul    67  73"
      ]
     },
     "execution_count": 178,
     "metadata": {},
     "output_type": "execute_result"
    }
   ],
   "source": [
    "df = pd.read_csv('test_scores.csv')\n",
    "df"
   ]
  },
  {
   "cell_type": "code",
   "execution_count": 179,
   "id": "b80d7fd4-4c6c-42c4-aa44-9681de8d412c",
   "metadata": {},
   "outputs": [],
   "source": [
    "x = np.array(df['math'])\n",
    "y = np.array(df['cs'])"
   ]
  },
  {
   "cell_type": "code",
   "execution_count": 180,
   "id": "3473a484-4efc-47d9-883a-311297a07024",
   "metadata": {},
   "outputs": [],
   "source": [
    "def linear_reg():\n",
    "    model = LinearRegression()\n",
    "    model.fit(df[['math']], df[['cs']])\n",
    "    return model.coef_, model.intercept_\n",
    "\n",
    "def gradient_descent(x, y):\n",
    "    coef = bias = 0\n",
    "    learning_rate = 0.0002\n",
    "    n = len(x)\n",
    "    iterations = 1000000\n",
    "    loss_previous = 0\n",
    "    for i in range(iterations):\n",
    "        y_pred = coef*x + bias\n",
    "        loss = (1/n)*sum([val**2 for val in (y - y_pred)])\n",
    "        der_coef = -(2/n)*sum(x*(y - y_pred))\n",
    "        der_bias =-(2/n)*sum(y - y_pred)\n",
    "        coef = coef - learning_rate*der_coef\n",
    "        bias = bias - learning_rate*der_bias\n",
    "\n",
    "        if math.isclose(loss, loss_previous, rel_tol = 1e-20):\n",
    "            break\n",
    "        loss_previous = loss\n",
    "\n",
    "    print(f' coef: {coef}, bias: {bias}, loss: {loss}, iteration: {i}')\n",
    "    return coef, bias"
   ]
  },
  {
   "cell_type": "code",
   "execution_count": 181,
   "id": "0ffb78ca-6d70-43b5-97ba-bb1c6f3d243c",
   "metadata": {},
   "outputs": [
    {
     "data": {
      "text/plain": [
       "(array([[1.01773624]]), array([1.91521931]))"
      ]
     },
     "execution_count": 181,
     "metadata": {},
     "output_type": "execute_result"
    }
   ],
   "source": [
    "linear_reg()"
   ]
  },
  {
   "cell_type": "code",
   "execution_count": 182,
   "id": "da9a927d-5831-44ad-a0b6-32e02ca5bfab",
   "metadata": {},
   "outputs": [
    {
     "name": "stdout",
     "output_type": "stream",
     "text": [
      " coef: 1.0177381667350405, bias: 1.9150826165722297, loss: 31.604511334602297, iteration: 415533\n"
     ]
    },
    {
     "data": {
      "text/plain": [
       "(1.0177381667350405, 1.9150826165722297)"
      ]
     },
     "execution_count": 182,
     "metadata": {},
     "output_type": "execute_result"
    }
   ],
   "source": [
    "gradient_descent(x, y)"
   ]
  }
 ],
 "metadata": {
  "kernelspec": {
   "display_name": "Python [conda env:base] *",
   "language": "python",
   "name": "conda-base-py"
  },
  "language_info": {
   "codemirror_mode": {
    "name": "ipython",
    "version": 3
   },
   "file_extension": ".py",
   "mimetype": "text/x-python",
   "name": "python",
   "nbconvert_exporter": "python",
   "pygments_lexer": "ipython3",
   "version": "3.12.7"
  }
 },
 "nbformat": 4,
 "nbformat_minor": 5
}
